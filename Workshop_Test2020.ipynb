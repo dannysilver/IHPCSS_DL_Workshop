{
  "nbformat": 4,
  "nbformat_minor": 0,
  "metadata": {
    "colab": {
      "name": "DNS_Test2020.ipynb",
      "provenance": [],
      "collapsed_sections": []
    },
    "kernelspec": {
      "name": "python3",
      "display_name": "Python 3"
    }
  },
  "cells": [
    {
      "cell_type": "markdown",
      "metadata": {
        "id": "9gXxPHKYWNqe"
      },
      "source": [
        "**Importing Machine Learning Libraries**"
      ]
    },
    {
      "cell_type": "code",
      "metadata": {
        "id": "OXrIKJFourUS"
      },
      "source": [
        "import numpy as np\n",
        "import matplotlib.pyplot as plt\n",
        "from mpl_toolkits.mplot3d import Axes3D"
      ],
      "execution_count": 1,
      "outputs": []
    },
    {
      "cell_type": "markdown",
      "metadata": {
        "id": "VejG1PcWXahk"
      },
      "source": [
        "\n",
        "1.   Creating Random Numbers\n",
        "2.   Inserting numbers in a column\n",
        "3.   Printing the matrix shape of the stack\n",
        "\n"
      ]
    },
    {
      "cell_type": "code",
      "metadata": {
        "id": "1f-Y-mULzBTX"
      },
      "source": [
        "  observations = 100000\n",
        "\n",
        "xs = np.random.uniform(-10, 10,  (observations,1))\n",
        "zs = np.random.uniform(-10,10,(observations,1))\n",
        "\n",
        "inputs = np.column_stack((xs,zs))\n",
        "\n",
        "print (inputs.shape)\n"
      ],
      "execution_count": null,
      "outputs": []
    }
  ]
}